{
 "cells": [
  {
   "cell_type": "markdown",
   "metadata": {
    "id": "m9QWlN-lq0qw"
   },
   "source": [
    "# Практическая работа"
   ]
  },
  {
   "cell_type": "markdown",
   "metadata": {
    "id": "4Nb7eTxYWWUe"
   },
   "source": [
    "# Задача"
   ]
  },
  {
   "cell_type": "markdown",
   "metadata": {
    "id": "ug5TQChn6KiJ"
   },
   "source": [
    "Один из способов повысить эффективность взаимодействия банка с клиентами — отправлять предложение о новой услуге не всем клиентам, а только некоторым, которые выбираются по принципу наибольшей склонности к отклику на это предложение.\n",
    "\n",
    "Задача заключается в том, чтобы предложить алгоритм, который будет выдавать склонность клиента к положительному или отрицательному отклику на предложение банка. Предполагается, что, получив такие оценки для некоторого множества клиентов, банк обратится с предложением только к тем, от кого ожидается положительный отклик.\n"
   ]
  },
  {
   "cell_type": "markdown",
   "metadata": {
    "id": "5k52FwP156I6"
   },
   "source": [
    "Для решения этой задачи загрузите файлы из базы в Postgres.\n",
    "Эта БД хранит информацию о клиентах банка и их персональные данные, такие как пол, количество детей и другие.\n",
    "\n",
    "Описание таблиц с данными представлено ниже.\n"
   ]
  },
  {
   "cell_type": "markdown",
   "metadata": {
    "id": "3HYLpuwA6dAw"
   },
   "source": [
    "**D_work**\n",
    "\n",
    "Описание статусов относительно работы:\n",
    "- ID — идентификатор социального статуса клиента относительно работы;\n",
    "- COMMENT — расшифровка статуса.\n",
    "\n",
    "\n",
    "**D_pens**\n",
    "\n",
    "Описание статусов относительно пенсии:\n",
    "- ID — идентификатор социального статуса;\n",
    "- COMMENT — расшифровка статуса.\n",
    "\n",
    "\n",
    "**D_clients**\n",
    "\n",
    "Описание данных клиентов:\n",
    "- ID — идентификатор записи;\n",
    "- AGE\t— возраст клиента;\n",
    "- GENDER — пол клиента (1 — мужчина, 0 — женщина);\n",
    "- EDUCATION — образование;\n",
    "- MARITAL_STATUS — семейное положение;\n",
    "- CHILD_TOTAL\t— количество детей клиента;\n",
    "- DEPENDANTS — количество иждивенцев клиента;\n",
    "- SOCSTATUS_WORK_FL\t— социальный статус клиента относительно работы (1 — работает, 0 — не работает);\n",
    "- SOCSTATUS_PENS_FL\t— социальный статус клиента относительно пенсии (1 — пенсионер, 0 — не пенсионер);\n",
    "- REG_ADDRESS_PROVINCE — область регистрации клиента;\n",
    "- FACT_ADDRESS_PROVINCE — область фактического пребывания клиента;\n",
    "- POSTAL_ADDRESS_PROVINCE — почтовый адрес области;\n",
    "- FL_PRESENCE_FL — наличие в собственности квартиры (1 — есть, 0 — нет);\n",
    "- OWN_AUTO — количество автомобилей в собственности.\n",
    "\n",
    "\n",
    "**D_agreement**\n",
    "\n",
    "Таблица с зафиксированными откликами клиентов на предложения банка:\n",
    "- AGREEMENT_RK — уникальный идентификатор объекта в выборке;\n",
    "- ID_CLIENT — идентификатор клиента;\n",
    "- TARGET — целевая переменная: отклик на маркетинговую кампанию (1 — отклик был зарегистрирован, 0 — отклика не было).\n",
    "    \n",
    "    \n",
    "**D_job**\n",
    "\n",
    "Описание информации о работе клиентов:\n",
    "- GEN_INDUSTRY — отрасль работы клиента;\n",
    "- GEN_TITLE — должность;\n",
    "- JOB_DIR — направление деятельности внутри компании;\n",
    "- WORK_TIME — время работы на текущем месте (в месяцах);\n",
    "- ID_CLIENT — идентификатор клиента.\n",
    "\n",
    "\n",
    "**D_salary**\n",
    "\n",
    "Описание информации о заработной плате клиентов:\n",
    "- ID_CLIENT — идентификатор клиента;\n",
    "- FAMILY_INCOME — семейный доход (несколько категорий);\n",
    "- PERSONAL_INCOME — личный доход клиента (в рублях).\n",
    "\n",
    "\n",
    "**D_last_credit**\n",
    "\n",
    "Информация о последнем займе клиента:\n",
    "- ID_CLIENT — идентификатор клиента;\n",
    "- CREDIT — сумма последнего кредита клиента (в рублях);\n",
    "- TERM — срок кредита;\n",
    "- FST_PAYMENT — первоначальный взнос (в рублях).\n",
    "\n",
    "\n",
    "**D_loan**\n",
    "\n",
    "Информация о кредитной истории клиента:\n",
    "- ID_CLIENT — идентификатор клиента;\n",
    "- ID_LOAN — идентификатор кредита.\n",
    "\n",
    "**D_close_loan**\n",
    "\n",
    "Информация о статусах кредита (ссуд):\n",
    "- ID_LOAN — идентификатор кредита;\n",
    "- CLOSED_FL — текущий статус кредита (1 — закрыт, 0 — не закрыт)."
   ]
  },
  {
   "cell_type": "markdown",
   "metadata": {
    "id": "aSCbvJeMKegU"
   },
   "source": [
    "Ниже представлен минимальный список колонок, которые должны находиться в итоговом датасете после склейки и агрегации данных. По своему усмотрению вы можете добавить дополнительные к этим колонки."
   ]
  },
  {
   "cell_type": "markdown",
   "metadata": {
    "id": "xDZKZYCtmbwi"
   },
   "source": [
    "    - AGREEMENT_RK — уникальный идентификатор объекта в выборке;\n",
    "    - TARGET — целевая переменная: отклик на маркетинговую кампанию (1 — отклик был зарегистрирован, 0 — отклика не было);\n",
    "    - AGE — возраст клиента;\n",
    "    - SOCSTATUS_WORK_FL — социальный статус клиента относительно работы (1 — работает, 0 — не работает);\n",
    "    - SOCSTATUS_PENS_FL — социальный статус клиента относительно пенсии (1 — пенсионер, 0 — не пенсионер);\n",
    "    - GENDER — пол клиента (1 — мужчина, 0 — женщина);\n",
    "    - CHILD_TOTAL — количество детей клиента;\n",
    "    - DEPENDANTS — количество иждивенцев клиента;\n",
    "    - PERSONAL_INCOME — личный доход клиента (в рублях);\n",
    "    - LOAN_NUM_TOTAL — количество ссуд клиента;\n",
    "    - LOAN_NUM_CLOSED — количество погашенных ссуд клиента.\n"
   ]
  },
  {
   "cell_type": "markdown",
   "metadata": {
    "id": "EDpojLFeAw2Y"
   },
   "source": [
    "Будьте внимательны при сборке датасета: это реальные банковские данные, в которых могут наблюдаться дубли, некорректно заполненные значения или значения, противоречащие друг другу. Для получения качественной модели необходимо предварительно очистить датасет от такой информации."
   ]
  },
  {
   "cell_type": "markdown",
   "metadata": {
    "id": "GERgJvyYmQEZ"
   },
   "source": [
    "## Задание 1\n",
    "\n",
    "Соберите всю информацию о клиентах в одну таблицу, где одна строчка соответствует полной информации об одном клиенте."
   ]
  },
  {
   "cell_type": "code",
   "execution_count": 1,
   "metadata": {},
   "outputs": [],
   "source": [
    "import numpy as np\n",
    "import pandas as pd"
   ]
  },
  {
   "cell_type": "markdown",
   "metadata": {},
   "source": [
    "#### Загружаем таблицы"
   ]
  },
  {
   "cell_type": "code",
   "execution_count": 2,
   "metadata": {
    "id": "Jv4FTlpOz0qg"
   },
   "outputs": [],
   "source": [
    "df_clients = pd.read_csv('./datasets/D_clients.csv')\n",
    "df_target = pd.read_csv('./datasets/D_target.csv')\n",
    "df_salary = pd.read_csv('./datasets/D_salary.csv')\n",
    "df_loan = pd.read_csv('./datasets/D_loan.csv')\n",
    "df_close_loan = pd.read_csv('./datasets/D_close_loan.csv')"
   ]
  },
  {
   "cell_type": "markdown",
   "metadata": {},
   "source": [
    "#### Считаем LOAN_NUM_TOTAL и LOAN_NUM_CLOSED"
   ]
  },
  {
   "cell_type": "code",
   "execution_count": 3,
   "metadata": {},
   "outputs": [],
   "source": [
    "df_loan_all = df_loan.merge(df_close_loan, how = 'left', left_on = 'ID_LOAN', right_on = 'ID_LOAN').drop(['ID_LOAN'], axis=1)\n",
    "df_loan_all = df_loan_all.groupby('ID_CLIENT').agg(['count', 'sum'])\n",
    "df_loan_all.columns = ['LOAN_NUM_TOTAL', 'LOAN_NUM_CLOSED']\n",
    "df_loan_all.reset_index(inplace=True)"
   ]
  },
  {
   "cell_type": "markdown",
   "metadata": {},
   "source": [
    "#### Присоединяем таблицы"
   ]
  },
  {
   "cell_type": "code",
   "execution_count": 4,
   "metadata": {},
   "outputs": [],
   "source": [
    "df = df_clients.merge(df_target, how = 'inner', left_on = 'ID', right_on = 'ID_CLIENT').drop(['ID_CLIENT'], axis=1)"
   ]
  },
  {
   "cell_type": "code",
   "execution_count": 5,
   "metadata": {},
   "outputs": [],
   "source": [
    "df = df.merge(df_salary, how = 'left', left_on = 'ID', right_on = 'ID_CLIENT')\\\n",
    "    .drop(['ID_CLIENT', 'FAMILY_INCOME'], axis=1)"
   ]
  },
  {
   "cell_type": "code",
   "execution_count": 6,
   "metadata": {},
   "outputs": [],
   "source": [
    "df = df.merge(df_loan_all, how = 'left', left_on = 'ID', right_on = 'ID_CLIENT').drop(['ID_CLIENT'], axis=1)"
   ]
  },
  {
   "cell_type": "code",
   "execution_count": 7,
   "metadata": {},
   "outputs": [],
   "source": [
    "cols = ['AGREEMENT_RK',\n",
    "'TARGET',\n",
    "'AGE',\n",
    "'SOCSTATUS_WORK_FL',\n",
    "'SOCSTATUS_PENS_FL',\n",
    "'GENDER',\n",
    "'CHILD_TOTAL',\n",
    "'DEPENDANTS',\n",
    "'PERSONAL_INCOME',\n",
    "'LOAN_NUM_TOTAL',\n",
    "'LOAN_NUM_CLOSED']"
   ]
  },
  {
   "cell_type": "code",
   "execution_count": 8,
   "metadata": {},
   "outputs": [],
   "source": [
    "df = df[cols]"
   ]
  },
  {
   "cell_type": "code",
   "execution_count": 9,
   "metadata": {},
   "outputs": [],
   "source": [
    "df.reset_index(inplace=True, drop=True)"
   ]
  },
  {
   "cell_type": "markdown",
   "metadata": {},
   "source": [
    "#### Пропуски"
   ]
  },
  {
   "cell_type": "code",
   "execution_count": 10,
   "metadata": {},
   "outputs": [
    {
     "name": "stdout",
     "output_type": "stream",
     "text": [
      "<class 'pandas.core.frame.DataFrame'>\n",
      "RangeIndex: 15523 entries, 0 to 15522\n",
      "Data columns (total 11 columns):\n",
      " #   Column             Non-Null Count  Dtype  \n",
      "---  ------             --------------  -----  \n",
      " 0   AGREEMENT_RK       15523 non-null  int64  \n",
      " 1   TARGET             15523 non-null  int64  \n",
      " 2   AGE                15523 non-null  int64  \n",
      " 3   SOCSTATUS_WORK_FL  15523 non-null  int64  \n",
      " 4   SOCSTATUS_PENS_FL  15523 non-null  int64  \n",
      " 5   GENDER             15523 non-null  int64  \n",
      " 6   CHILD_TOTAL        15523 non-null  int64  \n",
      " 7   DEPENDANTS         15523 non-null  int64  \n",
      " 8   PERSONAL_INCOME    15523 non-null  float64\n",
      " 9   LOAN_NUM_TOTAL     15523 non-null  int64  \n",
      " 10  LOAN_NUM_CLOSED    15523 non-null  int64  \n",
      "dtypes: float64(1), int64(10)\n",
      "memory usage: 1.3 MB\n"
     ]
    }
   ],
   "source": [
    "df.info()"
   ]
  },
  {
   "cell_type": "markdown",
   "metadata": {},
   "source": [
    "#### Статистики"
   ]
  },
  {
   "cell_type": "code",
   "execution_count": 11,
   "metadata": {},
   "outputs": [
    {
     "data": {
      "text/html": [
       "<div>\n",
       "<style scoped>\n",
       "    .dataframe tbody tr th:only-of-type {\n",
       "        vertical-align: middle;\n",
       "    }\n",
       "\n",
       "    .dataframe tbody tr th {\n",
       "        vertical-align: top;\n",
       "    }\n",
       "\n",
       "    .dataframe thead th {\n",
       "        text-align: right;\n",
       "    }\n",
       "</style>\n",
       "<table border=\"1\" class=\"dataframe\">\n",
       "  <thead>\n",
       "    <tr style=\"text-align: right;\">\n",
       "      <th></th>\n",
       "      <th>AGREEMENT_RK</th>\n",
       "      <th>TARGET</th>\n",
       "      <th>AGE</th>\n",
       "      <th>SOCSTATUS_WORK_FL</th>\n",
       "      <th>SOCSTATUS_PENS_FL</th>\n",
       "      <th>GENDER</th>\n",
       "      <th>CHILD_TOTAL</th>\n",
       "      <th>DEPENDANTS</th>\n",
       "      <th>PERSONAL_INCOME</th>\n",
       "      <th>LOAN_NUM_TOTAL</th>\n",
       "      <th>LOAN_NUM_CLOSED</th>\n",
       "    </tr>\n",
       "  </thead>\n",
       "  <tbody>\n",
       "    <tr>\n",
       "      <th>count</th>\n",
       "      <td>1.552300e+04</td>\n",
       "      <td>15523.000000</td>\n",
       "      <td>15523.000000</td>\n",
       "      <td>15523.000000</td>\n",
       "      <td>15523.000000</td>\n",
       "      <td>15523.000000</td>\n",
       "      <td>15523.000000</td>\n",
       "      <td>15523.000000</td>\n",
       "      <td>15523.000000</td>\n",
       "      <td>15523.000000</td>\n",
       "      <td>15523.000000</td>\n",
       "    </tr>\n",
       "    <tr>\n",
       "      <th>mean</th>\n",
       "      <td>6.539832e+07</td>\n",
       "      <td>0.119371</td>\n",
       "      <td>40.400438</td>\n",
       "      <td>0.909360</td>\n",
       "      <td>0.134639</td>\n",
       "      <td>0.653997</td>\n",
       "      <td>1.098886</td>\n",
       "      <td>0.644850</td>\n",
       "      <td>13848.041638</td>\n",
       "      <td>1.387296</td>\n",
       "      <td>0.751594</td>\n",
       "    </tr>\n",
       "    <tr>\n",
       "      <th>std</th>\n",
       "      <td>4.569483e+06</td>\n",
       "      <td>0.324235</td>\n",
       "      <td>11.607242</td>\n",
       "      <td>0.287105</td>\n",
       "      <td>0.341348</td>\n",
       "      <td>0.475709</td>\n",
       "      <td>0.996748</td>\n",
       "      <td>0.812663</td>\n",
       "      <td>8998.618992</td>\n",
       "      <td>0.794241</td>\n",
       "      <td>0.989253</td>\n",
       "    </tr>\n",
       "    <tr>\n",
       "      <th>min</th>\n",
       "      <td>5.991015e+07</td>\n",
       "      <td>0.000000</td>\n",
       "      <td>21.000000</td>\n",
       "      <td>0.000000</td>\n",
       "      <td>0.000000</td>\n",
       "      <td>0.000000</td>\n",
       "      <td>0.000000</td>\n",
       "      <td>0.000000</td>\n",
       "      <td>24.000000</td>\n",
       "      <td>1.000000</td>\n",
       "      <td>0.000000</td>\n",
       "    </tr>\n",
       "    <tr>\n",
       "      <th>25%</th>\n",
       "      <td>6.191984e+07</td>\n",
       "      <td>0.000000</td>\n",
       "      <td>30.000000</td>\n",
       "      <td>1.000000</td>\n",
       "      <td>0.000000</td>\n",
       "      <td>0.000000</td>\n",
       "      <td>0.000000</td>\n",
       "      <td>0.000000</td>\n",
       "      <td>8000.000000</td>\n",
       "      <td>1.000000</td>\n",
       "      <td>0.000000</td>\n",
       "    </tr>\n",
       "    <tr>\n",
       "      <th>50%</th>\n",
       "      <td>6.436952e+07</td>\n",
       "      <td>0.000000</td>\n",
       "      <td>39.000000</td>\n",
       "      <td>1.000000</td>\n",
       "      <td>0.000000</td>\n",
       "      <td>1.000000</td>\n",
       "      <td>1.000000</td>\n",
       "      <td>0.000000</td>\n",
       "      <td>12000.000000</td>\n",
       "      <td>1.000000</td>\n",
       "      <td>0.000000</td>\n",
       "    </tr>\n",
       "    <tr>\n",
       "      <th>75%</th>\n",
       "      <td>6.708832e+07</td>\n",
       "      <td>0.000000</td>\n",
       "      <td>50.000000</td>\n",
       "      <td>1.000000</td>\n",
       "      <td>0.000000</td>\n",
       "      <td>1.000000</td>\n",
       "      <td>2.000000</td>\n",
       "      <td>1.000000</td>\n",
       "      <td>17000.000000</td>\n",
       "      <td>2.000000</td>\n",
       "      <td>1.000000</td>\n",
       "    </tr>\n",
       "    <tr>\n",
       "      <th>max</th>\n",
       "      <td>7.529224e+07</td>\n",
       "      <td>1.000000</td>\n",
       "      <td>67.000000</td>\n",
       "      <td>1.000000</td>\n",
       "      <td>1.000000</td>\n",
       "      <td>1.000000</td>\n",
       "      <td>10.000000</td>\n",
       "      <td>7.000000</td>\n",
       "      <td>250000.000000</td>\n",
       "      <td>11.000000</td>\n",
       "      <td>11.000000</td>\n",
       "    </tr>\n",
       "  </tbody>\n",
       "</table>\n",
       "</div>"
      ],
      "text/plain": [
       "       AGREEMENT_RK        TARGET           AGE  SOCSTATUS_WORK_FL  \\\n",
       "count  1.552300e+04  15523.000000  15523.000000       15523.000000   \n",
       "mean   6.539832e+07      0.119371     40.400438           0.909360   \n",
       "std    4.569483e+06      0.324235     11.607242           0.287105   \n",
       "min    5.991015e+07      0.000000     21.000000           0.000000   \n",
       "25%    6.191984e+07      0.000000     30.000000           1.000000   \n",
       "50%    6.436952e+07      0.000000     39.000000           1.000000   \n",
       "75%    6.708832e+07      0.000000     50.000000           1.000000   \n",
       "max    7.529224e+07      1.000000     67.000000           1.000000   \n",
       "\n",
       "       SOCSTATUS_PENS_FL        GENDER   CHILD_TOTAL    DEPENDANTS  \\\n",
       "count       15523.000000  15523.000000  15523.000000  15523.000000   \n",
       "mean            0.134639      0.653997      1.098886      0.644850   \n",
       "std             0.341348      0.475709      0.996748      0.812663   \n",
       "min             0.000000      0.000000      0.000000      0.000000   \n",
       "25%             0.000000      0.000000      0.000000      0.000000   \n",
       "50%             0.000000      1.000000      1.000000      0.000000   \n",
       "75%             0.000000      1.000000      2.000000      1.000000   \n",
       "max             1.000000      1.000000     10.000000      7.000000   \n",
       "\n",
       "       PERSONAL_INCOME  LOAN_NUM_TOTAL  LOAN_NUM_CLOSED  \n",
       "count     15523.000000    15523.000000     15523.000000  \n",
       "mean      13848.041638        1.387296         0.751594  \n",
       "std        8998.618992        0.794241         0.989253  \n",
       "min          24.000000        1.000000         0.000000  \n",
       "25%        8000.000000        1.000000         0.000000  \n",
       "50%       12000.000000        1.000000         0.000000  \n",
       "75%       17000.000000        2.000000         1.000000  \n",
       "max      250000.000000       11.000000        11.000000  "
      ]
     },
     "execution_count": 11,
     "metadata": {},
     "output_type": "execute_result"
    }
   ],
   "source": [
    "df.describe(include='all')"
   ]
  },
  {
   "cell_type": "code",
   "execution_count": 12,
   "metadata": {},
   "outputs": [
    {
     "data": {
      "text/plain": [
       "True"
      ]
     },
     "execution_count": 12,
     "metadata": {},
     "output_type": "execute_result"
    }
   ],
   "source": [
    "df.duplicated().any()"
   ]
  },
  {
   "cell_type": "markdown",
   "metadata": {},
   "source": [
    "#### Найдены выбросы в PERSONAL_INCOME"
   ]
  },
  {
   "cell_type": "code",
   "execution_count": 13,
   "metadata": {},
   "outputs": [
    {
     "data": {
      "text/html": [
       "<div>\n",
       "<style scoped>\n",
       "    .dataframe tbody tr th:only-of-type {\n",
       "        vertical-align: middle;\n",
       "    }\n",
       "\n",
       "    .dataframe tbody tr th {\n",
       "        vertical-align: top;\n",
       "    }\n",
       "\n",
       "    .dataframe thead th {\n",
       "        text-align: right;\n",
       "    }\n",
       "</style>\n",
       "<table border=\"1\" class=\"dataframe\">\n",
       "  <thead>\n",
       "    <tr style=\"text-align: right;\">\n",
       "      <th></th>\n",
       "      <th>AGREEMENT_RK</th>\n",
       "      <th>TARGET</th>\n",
       "      <th>AGE</th>\n",
       "      <th>SOCSTATUS_WORK_FL</th>\n",
       "      <th>SOCSTATUS_PENS_FL</th>\n",
       "      <th>GENDER</th>\n",
       "      <th>CHILD_TOTAL</th>\n",
       "      <th>DEPENDANTS</th>\n",
       "      <th>PERSONAL_INCOME</th>\n",
       "      <th>LOAN_NUM_TOTAL</th>\n",
       "      <th>LOAN_NUM_CLOSED</th>\n",
       "    </tr>\n",
       "  </thead>\n",
       "  <tbody>\n",
       "    <tr>\n",
       "      <th>3272</th>\n",
       "      <td>61534026</td>\n",
       "      <td>0</td>\n",
       "      <td>28</td>\n",
       "      <td>1</td>\n",
       "      <td>0</td>\n",
       "      <td>0</td>\n",
       "      <td>1</td>\n",
       "      <td>1</td>\n",
       "      <td>24.0</td>\n",
       "      <td>1</td>\n",
       "      <td>0</td>\n",
       "    </tr>\n",
       "    <tr>\n",
       "      <th>14354</th>\n",
       "      <td>65421532</td>\n",
       "      <td>0</td>\n",
       "      <td>23</td>\n",
       "      <td>0</td>\n",
       "      <td>1</td>\n",
       "      <td>1</td>\n",
       "      <td>0</td>\n",
       "      <td>0</td>\n",
       "      <td>1950.0</td>\n",
       "      <td>1</td>\n",
       "      <td>1</td>\n",
       "    </tr>\n",
       "  </tbody>\n",
       "</table>\n",
       "</div>"
      ],
      "text/plain": [
       "       AGREEMENT_RK  TARGET  AGE  SOCSTATUS_WORK_FL  SOCSTATUS_PENS_FL  \\\n",
       "3272       61534026       0   28                  1                  0   \n",
       "14354      65421532       0   23                  0                  1   \n",
       "\n",
       "       GENDER  CHILD_TOTAL  DEPENDANTS  PERSONAL_INCOME  LOAN_NUM_TOTAL  \\\n",
       "3272        0            1           1             24.0               1   \n",
       "14354       1            0           0           1950.0               1   \n",
       "\n",
       "       LOAN_NUM_CLOSED  \n",
       "3272                 0  \n",
       "14354                1  "
      ]
     },
     "execution_count": 13,
     "metadata": {},
     "output_type": "execute_result"
    }
   ],
   "source": [
    "df[df['PERSONAL_INCOME'] < 2000]"
   ]
  },
  {
   "cell_type": "code",
   "execution_count": 14,
   "metadata": {},
   "outputs": [],
   "source": [
    "df = df[df['PERSONAL_INCOME'] >= 1950].reset_index(drop=True)"
   ]
  },
  {
   "cell_type": "code",
   "execution_count": 15,
   "metadata": {},
   "outputs": [],
   "source": [
    "df.to_csv('clients.csv')"
   ]
  },
  {
   "cell_type": "markdown",
   "metadata": {
    "id": "I7jn6IYXx6M9"
   },
   "source": [
    "## Задание 2\n",
    "\n",
    "При помощи инструмента Streamlit проведите разведочный анализ данных. В него может входить:\n",
    "\n",
    "* построение графиков распределений признаков\n",
    "* построение матрицы корреляций\n",
    "* построение графиков зависимостей целевой переменной и признаков\n",
    "* вычисление числовых характеристик распределения числовых столбцов (среднее, min, max, медиана и так далее)\n",
    "* любые другие ваши идеи приветствуются!\n",
    "\n",
    "[Пример Streamlit-приложения](https://rateyourflight.streamlit.app) с разведочным анализом, прогнозом модели и оценкой ее результатов."
   ]
  }
 ],
 "metadata": {
  "colab": {
   "provenance": []
  },
  "kernelspec": {
   "display_name": "Python 3 (ipykernel)",
   "language": "python",
   "name": "python3"
  },
  "language_info": {
   "codemirror_mode": {
    "name": "ipython",
    "version": 3
   },
   "file_extension": ".py",
   "mimetype": "text/x-python",
   "name": "python",
   "nbconvert_exporter": "python",
   "pygments_lexer": "ipython3",
   "version": "3.11.5"
  }
 },
 "nbformat": 4,
 "nbformat_minor": 4
}
